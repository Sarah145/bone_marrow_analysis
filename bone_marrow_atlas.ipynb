{
  "cells": [
    {
      "cell_type": "markdown",
      "metadata": {
        "id": "view-in-github",
        "colab_type": "text"
      },
      "source": [
        "<a href=\"https://colab.research.google.com/github/Sarah145/bone_marrow_analysis/blob/master/bone_marrow_atlas.ipynb\" target=\"_parent\"><img src=\"https://colab.research.google.com/assets/colab-badge.svg\" alt=\"Open In Colab\"/></a>"
      ]
    },
    {
      "cell_type": "markdown",
      "metadata": {
        "id": "JxncdT7Xwoxq"
      },
      "source": [
        "# Bone Marrow Atlas\n",
        "This notebook contains instructions to explore a single-cell atlas of the bone marrow in health and leukemia.\n",
        "\n",
        "The atlas is described in this paper: Cell-cell interactome of the hematopoietic niche and its changes in acute myeloid leukemia. *Ennis S et. al., iScience, 2023. DOI: [10.1016/j.isci.2023.106943](https://doi.org/10.1016/j.isci.2023.106943)*.\n",
        "\n",
        "If you want to explore the dataset, check the expression of different genes, look at cell type distributions etc., then follow the instructions below to generate an interactive browser of the dataset using cellxgene.\n",
        "\n",
        "If you're interested in using this dataset as a reference and querying your own bone marrow single-cell RNA-seq data, you can download the scVI model parameters from [here](https://zenodo.org/record/5931689) and follow the instructions from the [scVI tutorial](https://scarches.readthedocs.io/en/latest/scvi_surgery_pipeline.html#Perform-surgery-on-reference-model-and-train-on-query-dataset).\n",
        "\n",
        "-------\n",
        "\n",
        "## Running a cellxgene server\n",
        "To start a cellxgene session, run the following code chunks (press the ▶ button to the left corner of each cell or hit Ctrl+Enter) to install packages, download data and start a server. Only after running ALL cells in order, click the link in the output of the second last cell and it will take you to your cellxgene session and you can play with the data."
      ]
    },
    {
      "cell_type": "code",
      "execution_count": null,
      "metadata": {
        "id": "QXEcScQCv7rf"
      },
      "outputs": [],
      "source": [
        "# install python modules\n",
        "!pip install --quiet cellxgene"
      ]
    },
    {
      "cell_type": "code",
      "execution_count": null,
      "metadata": {
        "id": "R-QXqH0NwGDV"
      },
      "outputs": [],
      "source": [
        "# download data (this may take a while)\n",
        "!wget https://zenodo.org/record/5931689/files/bone_marrow.h5ad"
      ]
    },
    {
      "cell_type": "code",
      "execution_count": null,
      "metadata": {
        "id": "CNSDiwjodzAE"
      },
      "outputs": [],
      "source": [
        "from google.colab.output import eval_js\n",
        "print(\"Click on the following link AFTER running the cellxgene command in the next chunk.\")\n",
        "print(eval_js(\"google.colab.kernel.proxyPort(5005)\"))"
      ]
    },
    {
      "cell_type": "code",
      "execution_count": null,
      "metadata": {
        "id": "1HHe-2Dcw3rG"
      },
      "outputs": [],
      "source": [
        "# launch cellxgene server\n",
        "!cellxgene launch bone_marrow.h5ad"
      ]
    },
    {
      "cell_type": "code",
      "execution_count": null,
      "metadata": {
        "id": "GaukzZJvmV7k"
      },
      "outputs": [],
      "source": []
    }
  ],
  "metadata": {
    "colab": {
      "provenance": [],
      "authorship_tag": "ABX9TyO5MjeC2Ul5eRthBC+dbmAb",
      "include_colab_link": true
    },
    "kernelspec": {
      "display_name": "Python 3",
      "name": "python3"
    },
    "language_info": {
      "name": "python"
    }
  },
  "nbformat": 4,
  "nbformat_minor": 0
}