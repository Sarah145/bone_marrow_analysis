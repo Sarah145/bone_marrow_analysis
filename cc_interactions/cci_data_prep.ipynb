{
 "cells": [
  {
   "cell_type": "code",
   "execution_count": 1,
   "metadata": {},
   "outputs": [],
   "source": [
    "import scanpy as sc\n",
    "import pandas as pd\n",
    "import numpy as np"
   ]
  },
  {
   "cell_type": "code",
   "execution_count": 2,
   "metadata": {},
   "outputs": [],
   "source": [
    "adata = sc.read('../data/bone_marrow_integrated.h5ad')"
   ]
  },
  {
   "cell_type": "code",
   "execution_count": 3,
   "metadata": {},
   "outputs": [
    {
     "data": {
      "text/plain": [
       "healthy    115445\n",
       "D0          97737\n",
       "R           46450\n",
       "MRD         33008\n",
       "DG          31889\n",
       "D113         2713\n",
       "D29          1951\n",
       "D31          1785\n",
       "D18          1670\n",
       "D171         1402\n",
       "D14          1345\n",
       "D15          1201\n",
       "D20           949\n",
       "D35           916\n",
       "D41           386\n",
       "D37           223\n",
       "D34           200\n",
       "D97            59\n",
       "D49            52\n",
       "Name: timepoint, dtype: int64"
      ]
     },
     "execution_count": 3,
     "metadata": {},
     "output_type": "execute_result"
    }
   ],
   "source": [
    "adata.obs['timepoint'].value_counts()"
   ]
  },
  {
   "cell_type": "code",
   "execution_count": 4,
   "metadata": {},
   "outputs": [
    {
     "name": "stdout",
     "output_type": "stream",
     "text": [
      "(115445, 16723)\n",
      "(129626, 16723)\n"
     ]
    }
   ],
   "source": [
    "# subset healthy and diagnosis data\n",
    "healthy = adata[adata.obs['timepoint'] == 'healthy'].copy()\n",
    "print(healthy.shape)\n",
    "d0 = adata[(adata.obs['timepoint'] == 'D0') | (adata.obs['timepoint'] == 'DG')].copy()\n",
    "print(d0.shape)"
   ]
  },
  {
   "cell_type": "code",
   "execution_count": 5,
   "metadata": {},
   "outputs": [],
   "source": [
    "# define function to subsample by cell types\n",
    "def subsample_by_type(adata_obj, type_col):\n",
    "    types = np.unique(adata_obj.obs[type_col])\n",
    "    adatas = []\n",
    "    for i in range(0, len(types)):\n",
    "        sub = adata_obj[adata_obj.obs[type_col] == types[i]].copy()\n",
    "        if sub.n_obs <= 1000:\n",
    "            adatas.append(sub)\n",
    "        else:\n",
    "            s = sc.pp.subsample(sub, n_obs = 1000, copy = True, random_state=123)\n",
    "            adatas.append(s)\n",
    "    subsampled_adata = adatas[0].concatenate(adatas[1:])\n",
    "    return(subsampled_adata)"
   ]
  },
  {
   "cell_type": "code",
   "execution_count": 6,
   "metadata": {},
   "outputs": [
    {
     "data": {
      "text/plain": [
       "AnnData object with n_obs × n_vars = 16816 × 16723\n",
       "    obs: 'dataset', 'sample', 'donor', 'timepoint', 'celltype', 'batch', 'size_factors', 'doublet', 'dbl_score', 'umap1', 'umap2', 'leiden', 'celltype1', 'dummy', 'n_counts', 'keep', 'leiden_r1.5', 'ct'\n",
       "    obsm: 'X_umap'\n",
       "    layers: 'counts'"
      ]
     },
     "execution_count": 6,
     "metadata": {},
     "output_type": "execute_result"
    }
   ],
   "source": [
    "# subsample healthy\n",
    "healthy_sub = subsample_by_type(healthy, 'celltype_final')\n",
    "healthy_sub"
   ]
  },
  {
   "cell_type": "code",
   "execution_count": 7,
   "metadata": {},
   "outputs": [
    {
     "data": {
      "text/plain": [
       "AnnData object with n_obs × n_vars = 15860 × 16723\n",
       "    obs: 'dataset', 'sample', 'donor', 'timepoint', 'celltype', 'batch', 'size_factors', 'doublet', 'dbl_score', 'umap1', 'umap2', 'leiden', 'celltype1', 'dummy', 'n_counts', 'keep', 'leiden_r1.5', 'ct'\n",
       "    obsm: 'X_umap'\n",
       "    layers: 'counts'"
      ]
     },
     "execution_count": 7,
     "metadata": {},
     "output_type": "execute_result"
    }
   ],
   "source": [
    "# subsample diagnosis\n",
    "d0_sub = subsample_by_type(d0, 'celltype_final')\n",
    "d0_sub"
   ]
  },
  {
   "cell_type": "code",
   "execution_count": 8,
   "metadata": {},
   "outputs": [],
   "source": [
    "healthy_sub.obs = healthy_sub.obs[['dataset', 'sample', 'donor', 'timepoint', 'celltype_final']]\n",
    "d0_sub.obs = d0_sub.obs[['dataset', 'sample', 'donor', 'timepoint', 'celltype_final']]"
   ]
  },
  {
   "cell_type": "code",
   "execution_count": 9,
   "metadata": {},
   "outputs": [
    {
     "name": "stderr",
     "output_type": "stream",
     "text": [
      "... storing 'dataset' as categorical\n",
      "... storing 'sample' as categorical\n",
      "... storing 'donor' as categorical\n",
      "... storing 'ct' as categorical\n",
      "... storing 'dataset' as categorical\n",
      "... storing 'sample' as categorical\n",
      "... storing 'donor' as categorical\n",
      "... storing 'ct' as categorical\n"
     ]
    }
   ],
   "source": [
    "# save subsets\n",
    "healthy_sub.write('../data/healthy_sub.h5ad')\n",
    "d0_sub.write('../data/d0_sub.h5ad')"
   ]
  },
  {
   "cell_type": "code",
   "execution_count": null,
   "metadata": {},
   "outputs": [],
   "source": []
  }
 ],
 "metadata": {
  "kernelspec": {
   "display_name": "Python 3",
   "language": "python",
   "name": "python3"
  },
  "language_info": {
   "codemirror_mode": {
    "name": "ipython",
    "version": 3
   },
   "file_extension": ".py",
   "mimetype": "text/x-python",
   "name": "python",
   "nbconvert_exporter": "python",
   "pygments_lexer": "ipython3",
   "version": "3.7.4"
  }
 },
 "nbformat": 4,
 "nbformat_minor": 2
}
